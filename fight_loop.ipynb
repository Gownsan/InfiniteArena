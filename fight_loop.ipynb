{
 "cells": [
  {
   "cell_type": "code",
   "execution_count": 16,
   "metadata": {},
   "outputs": [],
   "source": [
    "# importing packages and functions\n",
    "from random import randint\n",
    "from math import floor\n",
    "import pandas as pd"
   ]
  },
  {
   "cell_type": "code",
   "execution_count": 17,
   "metadata": {},
   "outputs": [],
   "source": [
    "# read data on origins, jobs, weapons, armours and shields from CSV files\n",
    "origins = pd.read_csv(\"origins.csv\")\n",
    "jobs = pd.read_csv(\"jobs.csv\")\n",
    "weapons = pd.read_csv(\"weapons.csv\")\n",
    "armours = pd.read_csv(\"armours.csv\")\n",
    "shields = pd.read_csv(\"shields.csv\")"
   ]
  },
  {
   "cell_type": "code",
   "execution_count": 18,
   "metadata": {},
   "outputs": [],
   "source": [
    "# defining function to get stat bonus from stat\n",
    "def mod(creature, stat):\n",
    "    \"\"\"returns the ability modifier of a specified stat (string) for a creature\"\"\"\n",
    "    return floor(getattr(creature, stat) / 2 - 5)"
   ]
  },
  {
   "cell_type": "code",
   "execution_count": 19,
   "metadata": {},
   "outputs": [],
   "source": [
    "# defining function to create combatants from combination of origin and job\n",
    "def create_combatant(chosen_origin, chosen_job):\n",
    "    \"\"\"creates a combatant that includes the info from origin and job\"\"\"\n",
    "    combatant = origins[origins.name==chosen_origin]\n",
    "    combatant.rename(columns={'name':'origin'}, inplace=True)\n",
    "    combatant['job'] = chosen_job\n",
    "    combatant['startHP'] = combatant.vit + jobs[jobs.name==chosen_job]['startHP'].iloc[0]\n",
    "    combatant['currentHP'] = combatant.startHP\n",
    "    if combatant.origin.iloc[0] == 'monk':\n",
    "        combatant['dodge'] = mod(combatant, 'agi') + mod(combatant, 'spr') + 2\n",
    "    else:\n",
    "        combatant['dodge'] = mod(combatant, 'agi') + shields[shields.name==combatant.shield.iloc[0]]['dodge'].iloc[0] - armours[armours.name==chosen_origin]['encumbrance'].iloc[0] + 2\n",
    "    combatant['damage'] = weapons[weapons.name==combatant.weapon_1.iloc[0]]['damage'].iloc[0]\n",
    "    return combatant"
   ]
  },
  {
   "cell_type": "code",
   "execution_count": 27,
   "metadata": {},
   "outputs": [],
   "source": [
    "# set up combatants and variables needed before the fight begins\n",
    "combatant1 = create_combatant('knight', 'fighter')\n",
    "combatant2 = create_combatant('knight', 'fighter')\n",
    "combatant1_wins = 0\n",
    "combatant2_wins = 0\n",
    "double_kill = 0\n",
    "iteration = 100"
   ]
  },
  {
   "cell_type": "code",
   "execution_count": 28,
   "metadata": {},
   "outputs": [],
   "source": [
    "# iterate the desired number of times\n",
    "for i in range(0, iteration):\n",
    "    # print(i)\n",
    "    combatant1.currentHP = combatant1.startHP\n",
    "    combatant2.currentHP = combatant2.startHP\n",
    "    # roll initiative\n",
    "    combatant1_initiative = randint(1, 20) + mod(combatant1, \"agi\") + randint(1, 9)/10\n",
    "    combatant2_initiative = randint(1, 20) + mod(combatant2, \"agi\") + randint(1, 9)/10\n",
    "    # determine turn order\n",
    "    if combatant1_initiative > combatant2_initiative:\n",
    "        player1 = combatant1\n",
    "        player2 = combatant2\n",
    "    else:\n",
    "        player1 = combatant2\n",
    "        player2 = combatant1\n",
    "    # begin combat!\n",
    "    while player1.currentHP.iloc[0] > 0 and player2.currentHP.iloc[0] > 0:\n",
    "        # player1's turn\n",
    "        attack = randint(1, 20) + mod(player1, \"dex\") + 2\n",
    "        dodge = randint(1, 20) + player2.dodge.iloc[0]\n",
    "        if attack >= dodge:\n",
    "            player2.currentHP = player2.currentHP.iloc[0] - randint(1, player1.damage.iloc[0]) + mod(player1, \"str\")\n",
    "        # player2's turn\n",
    "        attack = randint(1, 20) + mod(player2, \"dex\") + 2\n",
    "        dodge = randint(1, 20) + player1.dodge.iloc[0]\n",
    "        if attack >= dodge:\n",
    "            player1.currentHP.iloc[0] = player1.currentHP.iloc[0] - randint(1, player2.damage.iloc[0]) + mod(player2, \"str\")\n",
    "    # end combat and record results\n",
    "    if player2.currentHP.iloc[0] <= 0 and player1.currentHP.iloc[0] <= 0:\n",
    "        double_kill = double_kill + 1\n",
    "    elif player2.currentHP.iloc[0] <= 0:\n",
    "        combatant1_wins = combatant1_wins + 1\n",
    "    else:\n",
    "        combatant2_wins = combatant2_wins + 1"
   ]
  },
  {
   "cell_type": "code",
   "execution_count": 29,
   "metadata": {},
   "outputs": [
    {
     "output_type": "stream",
     "name": "stdout",
     "text": "44.0\n50.0\n5.0\n"
    }
   ],
   "source": [
    "# print out the saved results\n",
    "print(combatant1_wins / iteration * 100)\n",
    "print(combatant2_wins / iteration * 100)\n",
    "print(double_kill / iteration * 100)"
   ]
  },
  {
   "cell_type": "code",
   "execution_count": null,
   "metadata": {},
   "outputs": [],
   "source": []
  }
 ],
 "metadata": {
  "language_info": {
   "codemirror_mode": {
    "name": "ipython",
    "version": 3
   },
   "file_extension": ".py",
   "mimetype": "text/x-python",
   "name": "python",
   "nbconvert_exporter": "python",
   "pygments_lexer": "ipython3",
   "version": "3.8.1-final"
  },
  "orig_nbformat": 2,
  "kernelspec": {
   "name": "python38132bit2e009f8f36634592abdea8943e200440",
   "display_name": "Python 3.8.1 32-bit"
  }
 },
 "nbformat": 4,
 "nbformat_minor": 2
}